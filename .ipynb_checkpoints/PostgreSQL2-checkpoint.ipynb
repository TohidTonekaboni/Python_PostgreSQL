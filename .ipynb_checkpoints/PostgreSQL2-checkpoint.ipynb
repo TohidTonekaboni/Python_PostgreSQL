{
 "cells": [
  {
   "cell_type": "code",
   "execution_count": 1,
   "id": "4c6390f7",
   "metadata": {},
   "outputs": [],
   "source": [
    "import psycopg2\n",
    "pgconn = psycopg2.connect(host=\"localhost\",user='postgres',password='123456') "
   ]
  },
  {
   "cell_type": "code",
   "execution_count": null,
   "id": "8055bf3b",
   "metadata": {},
   "outputs": [],
   "source": [
    "pgcursor = pgconn.cursor()\n",
    "from psycopg2.extensions import ISOLATION_LEVEL_AUTOCOMMIT\n",
    "pgconn.set_isolation_level(ISOLATION_LEVEL_AUTOCOMMIT)\n",
    "pgcursor.execute('DROP DATABASE IF EXISTS testDb')\n",
    "pgcursor.execute(\"CREATE DATABASE testDb\")\n",
    "pgconn.close()"
   ]
  },
  {
   "cell_type": "code",
   "execution_count": 2,
   "id": "408ce8c7",
   "metadata": {},
   "outputs": [],
   "source": [
    "conn = psycopg2.connect(host=\"localhost\",database='testdb',user='postgres',password='123456')"
   ]
  },
  {
   "cell_type": "code",
   "execution_count": 3,
   "id": "d86cfb60",
   "metadata": {},
   "outputs": [],
   "source": [
    "cur = conn.cursor()\n",
    "cur.execute('DROP TABLE IF EXISTS employee')"
   ]
  },
  {
   "cell_type": "code",
   "execution_count": 4,
   "id": "91de4815",
   "metadata": {},
   "outputs": [],
   "source": [
    "create_script = ''' CREATE TABLE IF NOT EXISTS employee (\n",
    "                        id       int PRIMARY KEY,\n",
    "                        name     varchar(40) NOT NULL,\n",
    "                        salary   int,\n",
    "                        dept_id  varchar(30)) '''\n",
    "cur.execute(create_script)"
   ]
  },
  {
   "cell_type": "code",
   "execution_count": 5,
   "id": "613b548b",
   "metadata": {},
   "outputs": [],
   "source": [
    "conn.commit()"
   ]
  },
  {
   "cell_type": "code",
   "execution_count": 8,
   "id": "aed561fa",
   "metadata": {},
   "outputs": [],
   "source": [
    "insert_script = 'INSERT INTO employee (id,name,salary,dept_id) VALUES (%s, %s, %s, %s)'\n",
    "insert_values = [(1,'James',12000,'D1'),(2,'Robin',15000,'D1'),(3,'Xavier',20000,'D3')]\n",
    "for record in insert_values:\n",
    "    cur.execute(insert_script,record)"
   ]
  },
  {
   "cell_type": "code",
   "execution_count": 9,
   "id": "10ebd5c0",
   "metadata": {},
   "outputs": [],
   "source": [
    "conn.commit()"
   ]
  },
  {
   "cell_type": "code",
   "execution_count": 10,
   "id": "5e238cac",
   "metadata": {},
   "outputs": [],
   "source": [
    "cur.execute('SELECT * FROM EMPLOYEE')"
   ]
  },
  {
   "cell_type": "code",
   "execution_count": 11,
   "id": "0abc8f2a",
   "metadata": {},
   "outputs": [
    {
     "data": {
      "text/plain": [
       "[(1, 'James', 12000, 'D1'),\n",
       " (2, 'Robin', 15000, 'D1'),\n",
       " (3, 'Xavier', 20000, 'D3')]"
      ]
     },
     "execution_count": 11,
     "metadata": {},
     "output_type": "execute_result"
    }
   ],
   "source": [
    "cur.fetchall()"
   ]
  },
  {
   "cell_type": "code",
   "execution_count": 12,
   "id": "389c8493",
   "metadata": {},
   "outputs": [],
   "source": [
    "update_script = 'UPDATE employee SET salary = salary + (salary*0.5)'\n",
    "cur.execute(update_script)\n",
    "conn.commit()"
   ]
  },
  {
   "cell_type": "code",
   "execution_count": 13,
   "id": "7ce477d8",
   "metadata": {},
   "outputs": [
    {
     "data": {
      "text/plain": [
       "[(1, 'James', 18000, 'D1'),\n",
       " (2, 'Robin', 22500, 'D1'),\n",
       " (3, 'Xavier', 30000, 'D3')]"
      ]
     },
     "execution_count": 13,
     "metadata": {},
     "output_type": "execute_result"
    }
   ],
   "source": [
    "cur.execute('SELECT * FROM EMPLOYEE')\n",
    "cur.fetchall()"
   ]
  },
  {
   "cell_type": "code",
   "execution_count": 14,
   "id": "61fe60f2",
   "metadata": {},
   "outputs": [],
   "source": [
    "delete_script = 'DELETE FROM employee WHERE name = %s'\n",
    "delete_record = ('James',)\n",
    "cur.execute(delete_script,delete_record)\n",
    "conn.commit()"
   ]
  },
  {
   "cell_type": "code",
   "execution_count": 15,
   "id": "e9f03c34",
   "metadata": {},
   "outputs": [
    {
     "data": {
      "text/plain": [
       "[(2, 'Robin', 22500, 'D1'), (3, 'Xavier', 30000, 'D3')]"
      ]
     },
     "execution_count": 15,
     "metadata": {},
     "output_type": "execute_result"
    }
   ],
   "source": [
    "cur.execute('SELECT * FROM EMPLOYEE')\n",
    "cur.fetchall()"
   ]
  },
  {
   "cell_type": "code",
   "execution_count": null,
   "id": "3d9a73fb",
   "metadata": {},
   "outputs": [],
   "source": []
  }
 ],
 "metadata": {
  "kernelspec": {
   "display_name": "Python 3 (ipykernel)",
   "language": "python",
   "name": "python3"
  },
  "language_info": {
   "codemirror_mode": {
    "name": "ipython",
    "version": 3
   },
   "file_extension": ".py",
   "mimetype": "text/x-python",
   "name": "python",
   "nbconvert_exporter": "python",
   "pygments_lexer": "ipython3",
   "version": "3.9.13"
  }
 },
 "nbformat": 4,
 "nbformat_minor": 5
}
